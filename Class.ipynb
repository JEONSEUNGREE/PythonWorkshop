{
 "cells": [
  {
   "cell_type": "code",
   "execution_count": 1,
   "id": "1988770e",
   "metadata": {},
   "outputs": [
    {
     "name": "stdout",
     "output_type": "stream",
     "text": [
      "['In', 'Out', 'PyTestClass', '_', '__', '___', '__builtin__', '__builtins__', '__doc__', '__loader__', '__name__', '__package__', '__spec__', '_dh', '_i', '_i1', '_ih', '_ii', '_iii', '_oh', 'exit', 'get_ipython', 'quit']\n",
      "<class 'type'>\n"
     ]
    }
   ],
   "source": [
    "class PyTestClass:\n",
    "    \"\"\"its' for Test Class\"\"\"\n",
    "    pass\n",
    "\n",
    "print(dir())\n",
    "print(type(PyTestClass))"
   ]
  },
  {
   "cell_type": "code",
   "execution_count": 9,
   "id": "349011e2",
   "metadata": {},
   "outputs": [
    {
     "name": "stdout",
     "output_type": "stream",
     "text": [
      "My name is Defualt\n",
      "My name is 파이썬3 테스트 클래스\n",
      "My name is seungree\n"
     ]
    }
   ],
   "source": [
    "class Person:\n",
    "    Name = \"Defualt\"\n",
    "    # self 부분 this 라고 보면됨\n",
    "    def Print(self):\n",
    "        print(\"My name is {0}\".format(self.Name))\n",
    "        \n",
    "p = Person() \n",
    "p.Print()\n",
    "\n",
    "p.Name = \"파이썬3 테스트 클래스\"\n",
    "x = Person()\n",
    "x.Name = \"seungree\"\n",
    "p.Print()\n",
    "Person.Print(x)"
   ]
  },
  {
   "cell_type": "code",
   "execution_count": 6,
   "id": "724cf549",
   "metadata": {},
   "outputs": [
    {
     "name": "stdout",
     "output_type": "stream",
     "text": [
      "p Name :  파이썬3 테스트 클래스\n",
      "p2 Name :  Defualt\n",
      "p title:  Python3 테스트\n",
      "p2 title:  Python3 테스트\n",
      "Person title:  Python3 테스트\n",
      "p age :  20\n"
     ]
    }
   ],
   "source": [
    "p2 = Person()\n",
    "\n",
    "print(\"p Name : \", p.Name)\n",
    "print(\"p2 Name : \", p2.Name)\n",
    "\n",
    "Person.title = \"Python3 테스트\"\n",
    "print(\"p title: \", p.title)\n",
    "print(\"p2 title: \", p2.title)\n",
    "print(\"Person title: \", Person.title)\n",
    "\n",
    "p.age = 20\n",
    "print(\"p age : \", p.age)"
   ]
  },
  {
   "cell_type": "code",
   "execution_count": 33,
   "id": "2c0809dc",
   "metadata": {},
   "outputs": [
    {
     "name": "stdout",
     "output_type": "stream",
     "text": [
      "클래스 멤버 아님\n",
      "테스트메시지\n"
     ]
    }
   ],
   "source": [
    "str1 = \"클래스 멤버 아님\"\n",
    "\n",
    "class NonSelfTest:\n",
    "    str1 = \"\"\n",
    "    \n",
    "    def Set(self, msg):\n",
    "        self.str1 = msg\n",
    "        \n",
    "    def Print(self):\n",
    "        print(str1)\n",
    "        \n",
    "    def WhyUseSelfPrint(self):\n",
    "        print(self.str1)\n",
    "        \n",
    "test = NonSelfTest()\n",
    "\n",
    "test.Set(\"테스트메시지\")\n",
    "test.Print()\n",
    "test.WhyUseSelfPrint()"
   ]
  },
  {
   "cell_type": "code",
   "execution_count": 39,
   "id": "b00ac602",
   "metadata": {},
   "outputs": [
    {
     "name": "stdout",
     "output_type": "stream",
     "text": [
      "생성자! Value = 333\n",
      "소멸자\n"
     ]
    }
   ],
   "source": [
    "# 호출시 생성자 종료시 소멸자\n",
    "# 자바의경우 jvm의 garbageCollect로 사용자가 직접 제어할 일이없었다. 파이썬의경우는 어느정도 제어 할수있다.\n",
    "class Vehicles:\n",
    "    def __init__(self, value):\n",
    "        print(\"생성자! Value = {0}\".format(value))\n",
    "        \n",
    "    def __del__(self):\n",
    "        print(\"소멸자\")\n",
    "def test():\n",
    "    v = Vehicles(333);\n",
    "    \n",
    "test()"
   ]
  },
  {
   "cell_type": "code",
   "execution_count": 41,
   "id": "c3851a66",
   "metadata": {},
   "outputs": [
    {
     "name": "stdout",
     "output_type": "stream",
     "text": [
      "{'name': 'Maron', 'phoneNum': '045-607-1852'}\n",
      "{'name': 'Lunar', 'phoneNum': '406-708-3821', 'subject': 'Electronice Engineering', 'studentId': '7283492'}\n"
     ]
    }
   ],
   "source": [
    "class Person:\n",
    "    def __init__(self, name, phoneNum):\n",
    "        self.name = name\n",
    "        self.phoneNum = phoneNum\n",
    "        \n",
    "    def printInfo(self):\n",
    "        print(\"Info(name: {0}, phone num: {1})\".format(self.name, self.phoneNum))\n",
    "        \n",
    "# JAVA extends 상속\n",
    "# Python은 클래스(상속할 클래스명)\n",
    "    \n",
    "class Student(Person):\n",
    "    def __init__(self, name, phoneNum, subject, studentId):\n",
    "        self.name = name\n",
    "        self.phoneNum = phoneNum\n",
    "        self.subject = subject\n",
    "        self.studentId = studentId\n",
    "        \n",
    "p = Person(\"Maron\", \"045-607-1852\")\n",
    "s = Student(\"Lunar\", \"406-708-3821\", \"Electronice Engineering\", \"7283492\")\n",
    "\n",
    "# __dict__를 통해서 print없이 클래스내부를 볼수있다.\n",
    "print(p.__dict__)\n",
    "print(s.__dict__)\n",
    "        "
   ]
  },
  {
   "cell_type": "code",
   "execution_count": 49,
   "id": "a77a92c8",
   "metadata": {},
   "outputs": [
    {
     "name": "stdout",
     "output_type": "stream",
     "text": [
      "I'm Sub Class: [3]\n",
      "I'm Super Class\n",
      "{'Number': 3}\n"
     ]
    }
   ],
   "source": [
    "# super() 활용법\n",
    "class Parent(object):\n",
    "    def test(self, number):\n",
    "        self.Number = number\n",
    "        \n",
    "    def printMsg(self):\n",
    "        print(\"I'm Super Class\")\n",
    "              \n",
    "class Child(Parent):\n",
    "    def __init__(self, number):\n",
    "        # super(자식클래스명, self)\n",
    "        super(Child, self).test(number)\n",
    "    \n",
    "    def printMsg(self):\n",
    "              print(\"I'm Sub Class: [%s]\" % str(self.Number))\n",
    "              super(Child, self).printMsg()\n",
    "              \n",
    "c = Child(3)\n",
    "c.printMsg()\n",
    "              \n",
    "print(c.__dict__)"
   ]
  },
  {
   "cell_type": "code",
   "execution_count": 50,
   "id": "5fa6eb76",
   "metadata": {},
   "outputs": [
    {
     "name": "stdout",
     "output_type": "stream",
     "text": [
      "100 0.6732638044200562\n",
      "48 0.5415642928167934\n",
      "15 0.38432028003004504\n",
      "28 0.9209374197416551\n",
      "27 0.8839109149820965\n",
      "76 0.9489316430651259\n",
      "1 0.062063915888328824\n",
      "21 0.6315274498873094\n",
      "94 0.8583829738670208\n",
      "61 0.6397558844481412\n",
      "21 0.06813841119344066\n",
      "19 0.2558203626978287\n",
      "24 0.8050777678948885\n",
      "43 0.01137144335574991\n",
      "55 0.5247144098419434\n",
      "68 0.9518243325002942\n",
      "48 0.46396081667821587\n",
      "77 0.824679108352036\n",
      "96 0.07150599180083561\n",
      "31 0.7237579682682134\n"
     ]
    }
   ],
   "source": [
    "# 파이썬 난수\n",
    "from random import *\n",
    "\n",
    "for i in range(20):\n",
    "    rand_int = randint(1, 100)\n",
    "    rand_float = random()\n",
    "    print(rand_int, rand_float)\n",
    "    "
   ]
  },
  {
   "cell_type": "code",
   "execution_count": null,
   "id": "e7a529ba",
   "metadata": {},
   "outputs": [],
   "source": [
    "# 숙제 1\n",
    "# 1~100까지 숫자중 3의 배수만 추려서 출력\n",
    "# 클래스 및 메서드를 프로그래밍\n",
    "\n",
    "# 숙제2.\n",
    "# 주사위 게임을 플레이 할 수 있도록 클래스 및 매서드 작성\n",
    "# 주사위는 1개만 굴리도록 하며 승패 판정은 누가 더 높은 주사위 눈금을 가지느냐에 따라 갈린다.\n",
    "\n",
    "# 숙제3.\n",
    "# 가상의 보드 게임을 만든다.\n",
    "# 한 바퀴를 도는데 총 주사위 눈금이 40칸 필요\n",
    "# 1) 한 바퀴를 돌면 자금으로 100만원 주어진다.\n",
    "# 2) 주사위의 특수 능력을 활용 할 수 있다.\n",
    "#  2-1) 숫자 2: 모두의 자금에서 50만원을 깐다.\n",
    "#  2-3) 숫자 4: 자신의 자금의 4%가 증발한다.\n",
    "#  2-4) 숫자 6: 모두의 자금에 30만원을 추가한다.\n",
    "#  2-4) 모든 플레이어들이 주사위를 돌린 눈금이 짝수일 경우 비밀 상점이 열린다.\n",
    "#       비밀 상점 물품 : 레드 티켓(지정한 상대의 주사위가 5턴 동안 정지함 - 100만원\n",
    "#                         옐로 티켓(지정한 상대의 주사위가 2턴간 정지함 - 50만원)\n",
    "#                         카오스 티켓(아무나 한 명 2턴간 정지함) - 10만원\n",
    "#                          뽑기티켓(1,2,5,10,20,50,100만원) - 10만원\n",
    "#                         연속 굴리기(1회, 2회, 3회, 4회) - 20만원\n",
    "#  2-5) 플레이어가 필드를 3바퀴 돌면 게임이 종료된다. ( 주사위 눈금 총 120칸 필요)\n",
    "#  2-6) 게임이 종료된 이후 가장 많은 자금을 가지고 있는 사람이 경기에 승리하게 된다.\n",
    "# 게임 팁: 1) 일단 돈을 많이 모은다.\n",
    "#           2) 비밀 상점 활용"
   ]
  }
 ],
 "metadata": {
  "kernelspec": {
   "display_name": "Python 3",
   "language": "python",
   "name": "python3"
  },
  "language_info": {
   "codemirror_mode": {
    "name": "ipython",
    "version": 3
   },
   "file_extension": ".py",
   "mimetype": "text/x-python",
   "name": "python",
   "nbconvert_exporter": "python",
   "pygments_lexer": "ipython3",
   "version": "3.8.8"
  }
 },
 "nbformat": 4,
 "nbformat_minor": 5
}
