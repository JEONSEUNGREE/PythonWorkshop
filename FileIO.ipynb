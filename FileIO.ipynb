{
 "cells": [
  {
   "cell_type": "code",
   "execution_count": 4,
   "id": "e1dd22dc",
   "metadata": {},
   "outputs": [
    {
     "name": "stdout",
     "output_type": "stream",
     "text": [
      " D 드라이브의 볼륨: 새 볼륨\n",
      " 볼륨 일련 번호: 5624-7F64\n",
      "\n",
      " D:\\java_work\\python_works\\PythonWorkshop 디렉터리\n",
      "\n",
      "2021-09-24  오후 05:57    <DIR>          .\n",
      "2021-09-24  오후 05:57    <DIR>          ..\n",
      "2021-09-17  오후 05:55             1,928 .gitignore\n",
      "2021-09-24  오후 05:55    <DIR>          .ipynb_checkpoints\n",
      "2021-09-23  오후 05:44            11,888 Array.ipynb\n",
      "2021-09-23  오후 07:52             8,982 ControlStatement.ipynb\n",
      "2021-09-23  오후 04:32             3,648 DataType.ipynb\n",
      "2021-09-24  오후 05:57               995 FileIO.ipynb\n",
      "2021-09-24  오후 05:55            14,893 Function(Method).ipynb\n",
      "2021-09-23  오후 02:19            18,595 python_taste.ipynb\n",
      "2021-09-17  오후 05:55                51 README.md\n",
      "2021-09-23  오후 02:19            27,952 request_seuccess.jpg\n",
      "2021-09-24  오후 05:58                51 test.txt\n",
      "              10개 파일              88,983 바이트\n",
      "               3개 디렉터리  106,679,058,432 바이트 남음\n"
     ]
    }
   ],
   "source": [
    "# Windws\n",
    "!dir\n",
    "# Unix Linux ls"
   ]
  },
  {
   "cell_type": "code",
   "execution_count": 5,
   "id": "88bf3487",
   "metadata": {},
   "outputs": [
    {
     "name": "stdout",
     "output_type": "stream",
     "text": [
      "51\n"
     ]
    }
   ],
   "source": [
    "f = open('test.txt', 'w')\n",
    "print(f.write('Python Basic Programming For iInterconnect with Web'))\n",
    "f.close()"
   ]
  },
  {
   "cell_type": "code",
   "execution_count": 6,
   "id": "7c84bf60",
   "metadata": {},
   "outputs": [
    {
     "name": "stdout",
     "output_type": "stream",
     "text": [
      " D 드라이브의 볼륨: 새 볼륨\n",
      " 볼륨 일련 번호: 5624-7F64\n",
      "\n",
      " D:\\java_work\\python_works\\PythonWorkshop 디렉터리\n",
      "\n",
      "2021-09-24  오후 05:57    <DIR>          .\n",
      "2021-09-24  오후 05:57    <DIR>          ..\n",
      "2021-09-17  오후 05:55             1,928 .gitignore\n",
      "2021-09-24  오후 05:55    <DIR>          .ipynb_checkpoints\n",
      "2021-09-23  오후 05:44            11,888 Array.ipynb\n",
      "2021-09-23  오후 07:52             8,982 ControlStatement.ipynb\n",
      "2021-09-23  오후 04:32             3,648 DataType.ipynb\n",
      "2021-09-24  오후 05:57               995 FileIO.ipynb\n",
      "2021-09-24  오후 05:55            14,893 Function(Method).ipynb\n",
      "2021-09-23  오후 02:19            18,595 python_taste.ipynb\n",
      "2021-09-17  오후 05:55                51 README.md\n",
      "2021-09-23  오후 02:19            27,952 request_seuccess.jpg\n",
      "2021-09-24  오후 05:58                51 test.txt\n",
      "              10개 파일              88,983 바이트\n",
      "               3개 디렉터리  106,679,058,432 바이트 남음\n"
     ]
    }
   ],
   "source": [
    "!dir"
   ]
  },
  {
   "cell_type": "code",
   "execution_count": 7,
   "id": "f4f22c27",
   "metadata": {},
   "outputs": [
    {
     "name": "stdout",
     "output_type": "stream",
     "text": [
      "Python Basic Programming For iInterconnect with Web\n"
     ]
    }
   ],
   "source": [
    "!type test.txt"
   ]
  },
  {
   "cell_type": "code",
   "execution_count": 9,
   "id": "39276990",
   "metadata": {},
   "outputs": [],
   "source": [
    "# Unix & Linux\n",
    "# 시스템 프로그래밍 api를 볼수있음 !man open\n"
   ]
  },
  {
   "cell_type": "code",
   "execution_count": 11,
   "id": "ce4e22c4",
   "metadata": {},
   "outputs": [
    {
     "name": "stdout",
     "output_type": "stream",
     "text": [
      "Python Basic Programming For iInterconnect with Web\n",
      "True\n"
     ]
    }
   ],
   "source": [
    "f = open('test.txt')\n",
    "print(f.read())\n",
    "f.close()\n",
    "print(f.closed)"
   ]
  },
  {
   "cell_type": "code",
   "execution_count": 13,
   "id": "09446f56",
   "metadata": {},
   "outputs": [
    {
     "name": "stdout",
     "output_type": "stream",
     "text": [
      "['Python Basic Programming For iInterconnect with Web']\n",
      "False\n",
      "True\n"
     ]
    }
   ],
   "source": [
    "with open('test.txt') as f:\n",
    "    print(f.readlines())\n",
    "    print(f.closed)\n",
    "    \n",
    "print(f.closed)    "
   ]
  },
  {
   "cell_type": "code",
   "execution_count": 14,
   "id": "63f79687",
   "metadata": {},
   "outputs": [
    {
     "name": "stdout",
     "output_type": "stream",
     "text": [
      "['red', 'green', 'blue']\n"
     ]
    }
   ],
   "source": [
    "colors = ['red', 'green', 'blue']\n",
    "print(colors)"
   ]
  },
  {
   "cell_type": "code",
   "execution_count": 16,
   "id": "231cc889",
   "metadata": {},
   "outputs": [
    {
     "name": "stdout",
     "output_type": "stream",
     "text": [
      "true\n"
     ]
    }
   ],
   "source": [
    "# globlas()를 활용하는 방법\n",
    "# 실제 객체가 만들엊 졌는지 안만들어졌는지 등을 아래와 같은 형식으로 체크할 수 있음\n",
    "\n",
    "def chk_colors():\n",
    "    if 'colors' in globals():\n",
    "        print(\"true\")\n",
    "    else:\n",
    "        print(\"false\")\n",
    "chk_colors()"
   ]
  },
  {
   "cell_type": "code",
   "execution_count": 17,
   "id": "b95eeaba",
   "metadata": {},
   "outputs": [
    {
     "name": "stdout",
     "output_type": "stream",
     "text": [
      "false\n"
     ]
    }
   ],
   "source": [
    "import pickle\n",
    "\n",
    "f = open('colors', 'wb')\n",
    "# dump로 저장 load로 불러오기\n",
    "pickle.dump(colors, f)\n",
    "f.close()\n",
    "\n",
    "del colors\n",
    "\n",
    "chk_colors()"
   ]
  },
  {
   "cell_type": "code",
   "execution_count": 18,
   "id": "f4180af7",
   "metadata": {},
   "outputs": [
    {
     "data": {
      "text/plain": [
       "{'__name__': '__main__',\n",
       " '__doc__': 'Automatically created module for IPython interactive environment',\n",
       " '__package__': None,\n",
       " '__loader__': None,\n",
       " '__spec__': None,\n",
       " '__builtin__': <module 'builtins' (built-in)>,\n",
       " '__builtins__': <module 'builtins' (built-in)>,\n",
       " '_ih': ['',\n",
       "  \"f = open('test.txt', 'w')\\nprint(f.write('Python Basic Programming For iInterconnect with Web'))\\nf.close()\",\n",
       "  \"# Windws\\nget_ipython().system('dir')\\n#Unix \",\n",
       "  \"f = open('test.txt', 'w')\\nprint(f.write('Python Basic Programming For iInterconnect with Web'))\\nf.close()\",\n",
       "  \"# Windws\\nget_ipython().system('dir')\\n#Unix \",\n",
       "  \"f = open('test.txt', 'w')\\nprint(f.write('Python Basic Programming For iInterconnect with Web'))\\nf.close()\",\n",
       "  \"get_ipython().system('dir')\",\n",
       "  \"get_ipython().system('type test.txt')\",\n",
       "  \"# Unix & Linux\\n# 시스템 프로그래밍 api를 볼수있음\\nget_ipython().system('man open')\",\n",
       "  '# Unix & Linux\\n# 시스템 프로그래밍 api를 볼수있음 !man open',\n",
       "  \"t = open('test.txt')\\nprint(f.read())\\nf.close()\\nprint(f.closed)\",\n",
       "  \"f = open('test.txt')\\nprint(f.read())\\nf.close()\\nprint(f.closed)\",\n",
       "  \"with open('test.txt') as f:\\n    print(f.readlines())\\n    print(f.cloased)\\n    \\nprint(f.closed)    \",\n",
       "  \"with open('test.txt') as f:\\n    print(f.readlines())\\n    print(f.closed)\\n    \\nprint(f.closed)    \",\n",
       "  \"colors = ['red', 'green', 'blue']\\nprint(colors)\",\n",
       "  'def chk_colors():\\n    if \\'colors\\' in globlas():\\n        print(\"true\")\\n    else:\\n        print(\"false\")\\nchk_colors()',\n",
       "  'def chk_colors():\\n    if \\'colors\\' in globals():\\n        print(\"true\")\\n    else:\\n        print(\"false\")\\nchk_colors()',\n",
       "  \"import pickle\\n\\nf = open('colors', 'wb')\\n\\npickle.dump(colors, f)\\nf.close()\\n\\ndel colors\\n\\nchk_colors()\",\n",
       "  'globals()'],\n",
       " '_oh': {},\n",
       " '_dh': ['D:\\\\java_work\\\\python_works\\\\PythonWorkshop'],\n",
       " 'In': ['',\n",
       "  \"f = open('test.txt', 'w')\\nprint(f.write('Python Basic Programming For iInterconnect with Web'))\\nf.close()\",\n",
       "  \"# Windws\\nget_ipython().system('dir')\\n#Unix \",\n",
       "  \"f = open('test.txt', 'w')\\nprint(f.write('Python Basic Programming For iInterconnect with Web'))\\nf.close()\",\n",
       "  \"# Windws\\nget_ipython().system('dir')\\n#Unix \",\n",
       "  \"f = open('test.txt', 'w')\\nprint(f.write('Python Basic Programming For iInterconnect with Web'))\\nf.close()\",\n",
       "  \"get_ipython().system('dir')\",\n",
       "  \"get_ipython().system('type test.txt')\",\n",
       "  \"# Unix & Linux\\n# 시스템 프로그래밍 api를 볼수있음\\nget_ipython().system('man open')\",\n",
       "  '# Unix & Linux\\n# 시스템 프로그래밍 api를 볼수있음 !man open',\n",
       "  \"t = open('test.txt')\\nprint(f.read())\\nf.close()\\nprint(f.closed)\",\n",
       "  \"f = open('test.txt')\\nprint(f.read())\\nf.close()\\nprint(f.closed)\",\n",
       "  \"with open('test.txt') as f:\\n    print(f.readlines())\\n    print(f.cloased)\\n    \\nprint(f.closed)    \",\n",
       "  \"with open('test.txt') as f:\\n    print(f.readlines())\\n    print(f.closed)\\n    \\nprint(f.closed)    \",\n",
       "  \"colors = ['red', 'green', 'blue']\\nprint(colors)\",\n",
       "  'def chk_colors():\\n    if \\'colors\\' in globlas():\\n        print(\"true\")\\n    else:\\n        print(\"false\")\\nchk_colors()',\n",
       "  'def chk_colors():\\n    if \\'colors\\' in globals():\\n        print(\"true\")\\n    else:\\n        print(\"false\")\\nchk_colors()',\n",
       "  \"import pickle\\n\\nf = open('colors', 'wb')\\n\\npickle.dump(colors, f)\\nf.close()\\n\\ndel colors\\n\\nchk_colors()\",\n",
       "  'globals()'],\n",
       " 'Out': {},\n",
       " 'get_ipython': <bound method InteractiveShell.get_ipython of <ipykernel.zmqshell.ZMQInteractiveShell object at 0x00000207502D2850>>,\n",
       " 'exit': <IPython.core.autocall.ZMQExitAutocall at 0x20750342580>,\n",
       " 'quit': <IPython.core.autocall.ZMQExitAutocall at 0x20750342580>,\n",
       " '_': '',\n",
       " '__': '',\n",
       " '___': '',\n",
       " '_i': \"import pickle\\n\\nf = open('colors', 'wb')\\n\\npickle.dump(colors, f)\\nf.close()\\n\\ndel colors\\n\\nchk_colors()\",\n",
       " '_ii': 'def chk_colors():\\n    if \\'colors\\' in globals():\\n        print(\"true\")\\n    else:\\n        print(\"false\")\\nchk_colors()',\n",
       " '_iii': 'def chk_colors():\\n    if \\'colors\\' in globlas():\\n        print(\"true\")\\n    else:\\n        print(\"false\")\\nchk_colors()',\n",
       " '_i1': \"f = open('test.txt', 'w')\\nprint(f.write('Python Basic Programming For iInterconnect with Web'))\\nf.close()\",\n",
       " 'f': <_io.BufferedWriter name='colors'>,\n",
       " '_i2': '# Windws\\n!dir\\n#Unix ',\n",
       " '_exit_code': 1,\n",
       " '_i3': \"f = open('test.txt', 'w')\\nprint(f.write('Python Basic Programming For iInterconnect with Web'))\\nf.close()\",\n",
       " '_i4': '# Windws\\n!dir\\n#Unix ',\n",
       " '_i5': \"f = open('test.txt', 'w')\\nprint(f.write('Python Basic Programming For iInterconnect with Web'))\\nf.close()\",\n",
       " '_i6': '!dir',\n",
       " '_i7': '!type test.txt',\n",
       " '_i8': '# Unix & Linux\\n# 시스템 프로그래밍 api를 볼수있음\\n!man open',\n",
       " '_i9': '# Unix & Linux\\n# 시스템 프로그래밍 api를 볼수있음 !man open',\n",
       " '_i10': \"t = open('test.txt')\\nprint(f.read())\\nf.close()\\nprint(f.closed)\",\n",
       " 't': <_io.TextIOWrapper name='test.txt' mode='r' encoding='cp949'>,\n",
       " '_i11': \"f = open('test.txt')\\nprint(f.read())\\nf.close()\\nprint(f.closed)\",\n",
       " '_i12': \"with open('test.txt') as f:\\n    print(f.readlines())\\n    print(f.cloased)\\n    \\nprint(f.closed)    \",\n",
       " '_i13': \"with open('test.txt') as f:\\n    print(f.readlines())\\n    print(f.closed)\\n    \\nprint(f.closed)    \",\n",
       " '_i14': \"colors = ['red', 'green', 'blue']\\nprint(colors)\",\n",
       " '_i15': 'def chk_colors():\\n    if \\'colors\\' in globlas():\\n        print(\"true\")\\n    else:\\n        print(\"false\")\\nchk_colors()',\n",
       " 'chk_colors': <function __main__.chk_colors()>,\n",
       " '_i16': 'def chk_colors():\\n    if \\'colors\\' in globals():\\n        print(\"true\")\\n    else:\\n        print(\"false\")\\nchk_colors()',\n",
       " '_i17': \"import pickle\\n\\nf = open('colors', 'wb')\\n\\npickle.dump(colors, f)\\nf.close()\\n\\ndel colors\\n\\nchk_colors()\",\n",
       " 'pickle': <module 'pickle' from 'C:\\\\ProgramData\\\\Anaconda3\\\\lib\\\\pickle.py'>,\n",
       " '_i18': 'globals()'}"
      ]
     },
     "execution_count": 18,
     "metadata": {},
     "output_type": "execute_result"
    }
   ],
   "source": [
    "globals()"
   ]
  },
  {
   "cell_type": "code",
   "execution_count": 19,
   "id": "9d46edd2",
   "metadata": {},
   "outputs": [
    {
     "name": "stdout",
     "output_type": "stream",
     "text": [
      "['red', 'green', 'blue']\n"
     ]
    }
   ],
   "source": [
    "f = open('colors', 'rb')\n",
    "colors = pickle.load(f)\n",
    "f.close()\n",
    "\n",
    "print(colors)"
   ]
  },
  {
   "cell_type": "code",
   "execution_count": 20,
   "id": "e175873c",
   "metadata": {},
   "outputs": [
    {
     "data": {
      "text/plain": [
       "{'__name__': '__main__',\n",
       " '__doc__': 'Automatically created module for IPython interactive environment',\n",
       " '__package__': None,\n",
       " '__loader__': None,\n",
       " '__spec__': None,\n",
       " '__builtin__': <module 'builtins' (built-in)>,\n",
       " '__builtins__': <module 'builtins' (built-in)>,\n",
       " '_ih': ['',\n",
       "  \"f = open('test.txt', 'w')\\nprint(f.write('Python Basic Programming For iInterconnect with Web'))\\nf.close()\",\n",
       "  \"# Windws\\nget_ipython().system('dir')\\n#Unix \",\n",
       "  \"f = open('test.txt', 'w')\\nprint(f.write('Python Basic Programming For iInterconnect with Web'))\\nf.close()\",\n",
       "  \"# Windws\\nget_ipython().system('dir')\\n#Unix \",\n",
       "  \"f = open('test.txt', 'w')\\nprint(f.write('Python Basic Programming For iInterconnect with Web'))\\nf.close()\",\n",
       "  \"get_ipython().system('dir')\",\n",
       "  \"get_ipython().system('type test.txt')\",\n",
       "  \"# Unix & Linux\\n# 시스템 프로그래밍 api를 볼수있음\\nget_ipython().system('man open')\",\n",
       "  '# Unix & Linux\\n# 시스템 프로그래밍 api를 볼수있음 !man open',\n",
       "  \"t = open('test.txt')\\nprint(f.read())\\nf.close()\\nprint(f.closed)\",\n",
       "  \"f = open('test.txt')\\nprint(f.read())\\nf.close()\\nprint(f.closed)\",\n",
       "  \"with open('test.txt') as f:\\n    print(f.readlines())\\n    print(f.cloased)\\n    \\nprint(f.closed)    \",\n",
       "  \"with open('test.txt') as f:\\n    print(f.readlines())\\n    print(f.closed)\\n    \\nprint(f.closed)    \",\n",
       "  \"colors = ['red', 'green', 'blue']\\nprint(colors)\",\n",
       "  'def chk_colors():\\n    if \\'colors\\' in globlas():\\n        print(\"true\")\\n    else:\\n        print(\"false\")\\nchk_colors()',\n",
       "  'def chk_colors():\\n    if \\'colors\\' in globals():\\n        print(\"true\")\\n    else:\\n        print(\"false\")\\nchk_colors()',\n",
       "  \"import pickle\\n\\nf = open('colors', 'wb')\\n\\npickle.dump(colors, f)\\nf.close()\\n\\ndel colors\\n\\nchk_colors()\",\n",
       "  'globals()',\n",
       "  \"f = open('colors', 'rb')\\ncolors = pickle.load(f)\\nf.close()\\n\\nprint(colors)\",\n",
       "  'globals()'],\n",
       " '_oh': {18: {...}},\n",
       " '_dh': ['D:\\\\java_work\\\\python_works\\\\PythonWorkshop'],\n",
       " 'In': ['',\n",
       "  \"f = open('test.txt', 'w')\\nprint(f.write('Python Basic Programming For iInterconnect with Web'))\\nf.close()\",\n",
       "  \"# Windws\\nget_ipython().system('dir')\\n#Unix \",\n",
       "  \"f = open('test.txt', 'w')\\nprint(f.write('Python Basic Programming For iInterconnect with Web'))\\nf.close()\",\n",
       "  \"# Windws\\nget_ipython().system('dir')\\n#Unix \",\n",
       "  \"f = open('test.txt', 'w')\\nprint(f.write('Python Basic Programming For iInterconnect with Web'))\\nf.close()\",\n",
       "  \"get_ipython().system('dir')\",\n",
       "  \"get_ipython().system('type test.txt')\",\n",
       "  \"# Unix & Linux\\n# 시스템 프로그래밍 api를 볼수있음\\nget_ipython().system('man open')\",\n",
       "  '# Unix & Linux\\n# 시스템 프로그래밍 api를 볼수있음 !man open',\n",
       "  \"t = open('test.txt')\\nprint(f.read())\\nf.close()\\nprint(f.closed)\",\n",
       "  \"f = open('test.txt')\\nprint(f.read())\\nf.close()\\nprint(f.closed)\",\n",
       "  \"with open('test.txt') as f:\\n    print(f.readlines())\\n    print(f.cloased)\\n    \\nprint(f.closed)    \",\n",
       "  \"with open('test.txt') as f:\\n    print(f.readlines())\\n    print(f.closed)\\n    \\nprint(f.closed)    \",\n",
       "  \"colors = ['red', 'green', 'blue']\\nprint(colors)\",\n",
       "  'def chk_colors():\\n    if \\'colors\\' in globlas():\\n        print(\"true\")\\n    else:\\n        print(\"false\")\\nchk_colors()',\n",
       "  'def chk_colors():\\n    if \\'colors\\' in globals():\\n        print(\"true\")\\n    else:\\n        print(\"false\")\\nchk_colors()',\n",
       "  \"import pickle\\n\\nf = open('colors', 'wb')\\n\\npickle.dump(colors, f)\\nf.close()\\n\\ndel colors\\n\\nchk_colors()\",\n",
       "  'globals()',\n",
       "  \"f = open('colors', 'rb')\\ncolors = pickle.load(f)\\nf.close()\\n\\nprint(colors)\",\n",
       "  'globals()'],\n",
       " 'Out': {18: {...}},\n",
       " 'get_ipython': <bound method InteractiveShell.get_ipython of <ipykernel.zmqshell.ZMQInteractiveShell object at 0x00000207502D2850>>,\n",
       " 'exit': <IPython.core.autocall.ZMQExitAutocall at 0x20750342580>,\n",
       " 'quit': <IPython.core.autocall.ZMQExitAutocall at 0x20750342580>,\n",
       " '_': {...},\n",
       " '__': '',\n",
       " '___': '',\n",
       " '_i': \"f = open('colors', 'rb')\\ncolors = pickle.load(f)\\nf.close()\\n\\nprint(colors)\",\n",
       " '_ii': 'globals()',\n",
       " '_iii': \"import pickle\\n\\nf = open('colors', 'wb')\\n\\npickle.dump(colors, f)\\nf.close()\\n\\ndel colors\\n\\nchk_colors()\",\n",
       " '_i1': \"f = open('test.txt', 'w')\\nprint(f.write('Python Basic Programming For iInterconnect with Web'))\\nf.close()\",\n",
       " 'f': <_io.BufferedReader name='colors'>,\n",
       " '_i2': '# Windws\\n!dir\\n#Unix ',\n",
       " '_exit_code': 1,\n",
       " '_i3': \"f = open('test.txt', 'w')\\nprint(f.write('Python Basic Programming For iInterconnect with Web'))\\nf.close()\",\n",
       " '_i4': '# Windws\\n!dir\\n#Unix ',\n",
       " '_i5': \"f = open('test.txt', 'w')\\nprint(f.write('Python Basic Programming For iInterconnect with Web'))\\nf.close()\",\n",
       " '_i6': '!dir',\n",
       " '_i7': '!type test.txt',\n",
       " '_i8': '# Unix & Linux\\n# 시스템 프로그래밍 api를 볼수있음\\n!man open',\n",
       " '_i9': '# Unix & Linux\\n# 시스템 프로그래밍 api를 볼수있음 !man open',\n",
       " '_i10': \"t = open('test.txt')\\nprint(f.read())\\nf.close()\\nprint(f.closed)\",\n",
       " 't': <_io.TextIOWrapper name='test.txt' mode='r' encoding='cp949'>,\n",
       " '_i11': \"f = open('test.txt')\\nprint(f.read())\\nf.close()\\nprint(f.closed)\",\n",
       " '_i12': \"with open('test.txt') as f:\\n    print(f.readlines())\\n    print(f.cloased)\\n    \\nprint(f.closed)    \",\n",
       " '_i13': \"with open('test.txt') as f:\\n    print(f.readlines())\\n    print(f.closed)\\n    \\nprint(f.closed)    \",\n",
       " '_i14': \"colors = ['red', 'green', 'blue']\\nprint(colors)\",\n",
       " '_i15': 'def chk_colors():\\n    if \\'colors\\' in globlas():\\n        print(\"true\")\\n    else:\\n        print(\"false\")\\nchk_colors()',\n",
       " 'chk_colors': <function __main__.chk_colors()>,\n",
       " '_i16': 'def chk_colors():\\n    if \\'colors\\' in globals():\\n        print(\"true\")\\n    else:\\n        print(\"false\")\\nchk_colors()',\n",
       " '_i17': \"import pickle\\n\\nf = open('colors', 'wb')\\n\\npickle.dump(colors, f)\\nf.close()\\n\\ndel colors\\n\\nchk_colors()\",\n",
       " 'pickle': <module 'pickle' from 'C:\\\\ProgramData\\\\Anaconda3\\\\lib\\\\pickle.py'>,\n",
       " '_i18': 'globals()',\n",
       " '_18': {...},\n",
       " '_i19': \"f = open('colors', 'rb')\\ncolors = pickle.load(f)\\nf.close()\\n\\nprint(colors)\",\n",
       " 'colors': ['red', 'green', 'blue'],\n",
       " '_i20': 'globals()'}"
      ]
     },
     "execution_count": 20,
     "metadata": {},
     "output_type": "execute_result"
    }
   ],
   "source": [
    "globals()"
   ]
  },
  {
   "cell_type": "code",
   "execution_count": 22,
   "id": "69513bc5",
   "metadata": {},
   "outputs": [
    {
     "name": "stdout",
     "output_type": "stream",
     "text": [
      "<__main__.Test object at 0x0000020750456970>\n",
      "Test\n"
     ]
    }
   ],
   "source": [
    "class Test:\n",
    "    var = None\n",
    "    \n",
    "a = Test()\n",
    "a.var = \"Test\"\n",
    "\n",
    "f = open('test', 'wb')\n",
    "pickle.dump(a, f)\n",
    "f.close()\n",
    "\n",
    "print(a)\n",
    "print(a.var)\n",
    "\n",
    "del a"
   ]
  },
  {
   "cell_type": "code",
   "execution_count": 23,
   "id": "746c5253",
   "metadata": {},
   "outputs": [
    {
     "name": "stdout",
     "output_type": "stream",
     "text": [
      "<__main__.Test object at 0x00000207503759D0>\n",
      "Test\n"
     ]
    }
   ],
   "source": [
    "f = open('test','rb')\n",
    "b = pickle.load(f)\n",
    "f.close()\n",
    "\n",
    "print(b)\n",
    "print(b.var)"
   ]
  },
  {
   "cell_type": "code",
   "execution_count": null,
   "id": "6b8610b6",
   "metadata": {},
   "outputs": [],
   "source": []
  }
 ],
 "metadata": {
  "kernelspec": {
   "display_name": "Python 3",
   "language": "python",
   "name": "python3"
  },
  "language_info": {
   "codemirror_mode": {
    "name": "ipython",
    "version": 3
   },
   "file_extension": ".py",
   "mimetype": "text/x-python",
   "name": "python",
   "nbconvert_exporter": "python",
   "pygments_lexer": "ipython3",
   "version": "3.8.8"
  }
 },
 "nbformat": 4,
 "nbformat_minor": 5
}
