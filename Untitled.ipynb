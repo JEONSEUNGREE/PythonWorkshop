{
 "cells": [
  {
   "cell_type": "code",
   "execution_count": 19,
   "id": "2a599bed",
   "metadata": {},
   "outputs": [
    {
     "name": "stdout",
     "output_type": "stream",
     "text": [
      "[3, 6, 9, 12, 15, 18, 21, 24, 27, 30, 33, 36, 39, 42, 45, 48, 51, 54, 57, 60, 63, 66, 69, 72, 75, 78, 81, 84, 87, 90, 93, 96, 99]\n"
     ]
    }
   ],
   "source": [
    "# 숙제 1\n",
    "# 1~100까지 숫자중 3의 배수만 추려서 출력\n",
    "# 클래스 및 메서드를 프로그래밍\n",
    "\n",
    "list = []\n",
    "for i in range(1,100):\n",
    "    if(i % 3 == 0):\n",
    "        list.append(i)\n",
    "        \n",
    "print(list)"
   ]
  },
  {
   "cell_type": "code",
   "execution_count": 4,
   "id": "337ac4a1",
   "metadata": {},
   "outputs": [
    {
     "name": "stdout",
     "output_type": "stream",
     "text": [
      "4 computer\n",
      "1 user\n",
      "컴퓨터승리\n",
      "{'com': 4, 'user': 1}\n"
     ]
    }
   ],
   "source": [
    "# 숙제2.\n",
    "# 주사위 게임을 플레이 할 수 있도록 클래스 및 매서드 작성\n",
    "# 주사위는 1개만 굴리도록 하며 승패 판정은 누가 더 높은 주사위 눈금을 가지느냐에 따라 갈린다.\n",
    "\n",
    "from random import *\n",
    "\n",
    "list = dict(com = 1, user = 1)\n",
    "tmp = [\"user\", \"com\"]\n",
    "\n",
    "class Dice():\n",
    "    def r_Num(self, name):\n",
    "        self.rand_int = randint(1, 6)\n",
    "        print(self.rand_int, name)\n",
    "        \n",
    "class 승패():\n",
    "    def result(u_dice, c_dice):\n",
    "        tmp.append(u_dice)\n",
    "        tmp.append(c_dice)\n",
    "        \n",
    "        for value in list.keys():\n",
    "            list[value] = tmp.pop()\n",
    "            \n",
    "        if u_dice == c_dice:\n",
    "            print(\"무승부\")\n",
    "        elif u_dice < c_dice:\n",
    "            print(\"컴퓨터승리\")\n",
    "        else:\n",
    "            print(\"유저승리\")\n",
    "              \n",
    "    \n",
    "com_dice = Dice()\n",
    "com_dice.r_Num(\"computer\")\n",
    "\n",
    "user_dice = Dice()\n",
    "user_dice.r_Num(\"user\")\n",
    "\n",
    "승패.result(user_dice.rand_int, com_dice.rand_int)\n",
    "print(list)"
   ]
  },
  {
   "cell_type": "code",
   "execution_count": 5,
   "id": "6e2dfa0f",
   "metadata": {},
   "outputs": [
    {
     "name": "stdout",
     "output_type": "stream",
     "text": [
      "유저 남은 턴 120\n",
      "118\n"
     ]
    }
   ],
   "source": [
    "# 숙제3.\n",
    "# 가상의 보드 게임을 만든다.\n",
    "# 한 바퀴를 도는데 총 주사위 눈금이 40칸 필요\n",
    "# 1) 한 바퀴를 돌면 자금으로 100만원 주어진다.\n",
    "# 2) 주사위의 특수 능력을 활용 할 수 있다.\n",
    "#  2-1) 숫자 2: 모두의 자금에서 50만원을 깐다.\n",
    "#  2-3) 숫자 4: 자신의 자금의 4%가 증발한다.\n",
    "#  2-4) 숫자 6: 모두의 자금에 30만원을 추가한다.\n",
    "#  2-4) 모든 플레이어들이 주사위를 돌린 눈금이 짝수일 경우 비밀 상점이 열린다.\n",
    "#       비밀 상점 물품 : 레드 티켓(지정한 상대의 주사위가 5턴 동안 정지함 - 100만원\n",
    "#                         옐로 티켓(지정한 상대의 주사위가 2턴간 정지함 - 50만원)\n",
    "#                         카오스 티켓(아무나 한 명 2턴간 정지함) - 10만원\n",
    "#                          뽑기티켓(1,2,5,10,20,50,100만원) - 10만원\n",
    "#                         연속 굴리기(1회, 2회, 3회, 4회) - 20만원\n",
    "#  2-5) 플레이어가 필드를 3바퀴 돌면 게임이 종료된다. ( 주사위 눈금 총 120칸 필요)\n",
    "#  2-6) 게임이 종료된 이후 가장 많은 자금을 가지고 있는 사람이 경기에 승리하게 된다.\n",
    "# 게임 팁: 1) 일단 돈을 많이 모은다.\n",
    "#           2) 비밀 상점 활용\n",
    "\n",
    "money = 100\n",
    "usr = 120\n",
    "com = 120\n",
    "    \n",
    "class Turn():\n",
    "    \n",
    "    def leftTurn(who):\n",
    "        Select.whosTurn(who)\n",
    "\n",
    "        \n",
    "    def calcDice(who):\n",
    "        Select.whosTurn(who)\n",
    "        \n",
    "        \n",
    "class Select():\n",
    "    \n",
    "    def whosTurn(who):\n",
    "        if who == \"user\":\n",
    "            print(\"유저 남은 턴\", usr)\n",
    "#             Select.calcDice(who, Select.randice())\n",
    "            print(usr - Select.randice())\n",
    "        else:\n",
    "            print(\"컴퓨터 남은턴\", com)\n",
    "            Select.calcDice(who, Select.randice())\n",
    "            print(com)\n",
    "            \n",
    "#     def calcDice(who, Select.randice()):\n",
    "#         if who == \"user\":\n",
    "#             usr = usr - Select.randice()\n",
    "#         else: \n",
    "#             print(com)\n",
    "#             com * dice\n",
    "        \n",
    "    def randice():\n",
    "        rand_int = randint(1, 6)\n",
    "        return rand_int\n",
    "    \n",
    "            \n",
    "    \n",
    "test = Turn\n",
    "test.leftTurn(\"user\")\n",
    "        \n",
    " "
   ]
  },
  {
   "cell_type": "code",
   "execution_count": null,
   "id": "37ec4157",
   "metadata": {},
   "outputs": [],
   "source": []
  },
  {
   "cell_type": "code",
   "execution_count": null,
   "id": "0536193c",
   "metadata": {},
   "outputs": [],
   "source": []
  }
 ],
 "metadata": {
  "kernelspec": {
   "display_name": "Python 3",
   "language": "python",
   "name": "python3"
  },
  "language_info": {
   "codemirror_mode": {
    "name": "ipython",
    "version": 3
   },
   "file_extension": ".py",
   "mimetype": "text/x-python",
   "name": "python",
   "nbconvert_exporter": "python",
   "pygments_lexer": "ipython3",
   "version": "3.8.8"
  }
 },
 "nbformat": 4,
 "nbformat_minor": 5
}
