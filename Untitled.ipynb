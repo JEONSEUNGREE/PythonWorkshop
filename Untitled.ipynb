{
 "cells": [
  {
   "cell_type": "code",
   "execution_count": null,
   "id": "22a76727",
   "metadata": {},
   "outputs": [],
   "source": [
    "# 파이썬에서 주선은 '#'으로 작성한다."
   ]
  },
  {
   "cell_type": "code",
   "execution_count": 10,
   "id": "9eb5ed39",
   "metadata": {},
   "outputs": [],
   "source": [
    "### File Read\n",
    "data = \"hello\"\n",
    "with open(\"test.txt\", \"w\") as fp:\n",
    "    fp.write(data)"
   ]
  },
  {
   "cell_type": "code",
   "execution_count": 6,
   "id": "ee745c0b",
   "metadata": {},
   "outputs": [
    {
     "name": "stdout",
     "output_type": "stream",
     "text": [
      "파이썬 쉽네\n",
      "hello\n"
     ]
    }
   ],
   "source": [
    "### File Read\n",
    "with open(\"test.txt\", \"r\") as fp:\n",
    "    print(\"파이썬 쉽네\")\n",
    "    print(fp.read())"
   ]
  },
  {
   "cell_type": "code",
   "execution_count": 7,
   "id": "7ebb07f6",
   "metadata": {},
   "outputs": [
    {
     "name": "stdout",
     "output_type": "stream",
     "text": [
      "hello\n"
     ]
    }
   ],
   "source": [
    "!type test.txt"
   ]
  },
  {
   "cell_type": "code",
   "execution_count": 9,
   "id": "5408a154",
   "metadata": {},
   "outputs": [
    {
     "name": "stdout",
     "output_type": "stream",
     "text": [
      " C 드라이브의 볼륨에는 이름이 없습니다.\n",
      " 볼륨 일련 번호: 9C7C-845A\n",
      "\n",
      " C:\\Users\\REE\\python_work\\PythonWorkshop 디렉터리\n",
      "\n",
      "2021-09-17  오후 06:10    <DIR>          .\n",
      "2021-09-17  오후 06:10    <DIR>          ..\n",
      "2021-09-17  오후 06:06             1,928 .gitignore\n",
      "2021-09-17  오후 06:06    <DIR>          .ipynb_checkpoints\n",
      "2021-09-17  오후 06:06                51 README.md\n",
      "2021-09-17  오후 06:10                 5 test.txt\n",
      "2021-09-17  오후 06:10             1,267 Untitled.ipynb\n",
      "               4개 파일               3,251 바이트\n",
      "               3개 디렉터리  11,776,909,312 바이트 남음\n"
     ]
    }
   ],
   "source": [
    "### Windows\n",
    "!dir"
   ]
  },
  {
   "cell_type": "code",
   "execution_count": null,
   "id": "5c91ea24",
   "metadata": {},
   "outputs": [],
   "source": []
  }
 ],
 "metadata": {
  "kernelspec": {
   "display_name": "Python 3",
   "language": "python",
   "name": "python3"
  },
  "language_info": {
   "codemirror_mode": {
    "name": "ipython",
    "version": 3
   },
   "file_extension": ".py",
   "mimetype": "text/x-python",
   "name": "python",
   "nbconvert_exporter": "python",
   "pygments_lexer": "ipython3",
   "version": "3.8.8"
  }
 },
 "nbformat": 4,
 "nbformat_minor": 5
}
