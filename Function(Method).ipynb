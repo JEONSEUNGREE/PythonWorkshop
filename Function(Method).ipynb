{
 "cells": [
  {
   "cell_type": "code",
   "execution_count": 3,
   "id": "b5deb9ce",
   "metadata": {},
   "outputs": [
    {
     "name": "stdout",
     "output_type": "stream",
     "text": [
      "<function times at 0x000001206BF30670>\n",
      "100\n",
      "<class 'function'>\n"
     ]
    }
   ],
   "source": [
    "def times(a, b):\n",
    "    return a * b\n",
    "\n",
    "print(times)\n",
    "print(times(10, 10))\n",
    "print(type(times))\n"
   ]
  },
  {
   "cell_type": "code",
   "execution_count": 4,
   "id": "2ce31e08",
   "metadata": {},
   "outputs": [
    {
     "name": "stdout",
     "output_type": "stream",
     "text": [
      "{'__name__': '__main__', '__doc__': 'Automatically created module for IPython interactive environment', '__package__': None, '__loader__': None, '__spec__': None, '__builtin__': <module 'builtins' (built-in)>, '__builtins__': <module 'builtins' (built-in)>, '_ih': ['', 'def times(a, b):\\n    return a * b\\n\\nprint(times)\\nprint(times(10, 10))\\nprint(type(times))', 'async times(a, b):\\n    return a * b\\n\\nprint(times)\\nprint(times(10, 10))\\nprint(type(times))', 'def times(a, b):\\n    return a * b\\n\\nprint(times)\\nprint(times(10, 10))\\nprint(type(times))', 'print(globals())'], '_oh': {}, '_dh': ['D:\\\\java_work\\\\python_works\\\\PythonWorkshop'], 'In': ['', 'def times(a, b):\\n    return a * b\\n\\nprint(times)\\nprint(times(10, 10))\\nprint(type(times))', 'async times(a, b):\\n    return a * b\\n\\nprint(times)\\nprint(times(10, 10))\\nprint(type(times))', 'def times(a, b):\\n    return a * b\\n\\nprint(times)\\nprint(times(10, 10))\\nprint(type(times))', 'print(globals())'], 'Out': {}, 'get_ipython': <bound method InteractiveShell.get_ipython of <ipykernel.zmqshell.ZMQInteractiveShell object at 0x000001206BE62850>>, 'exit': <IPython.core.autocall.ZMQExitAutocall object at 0x000001206BED3640>, 'quit': <IPython.core.autocall.ZMQExitAutocall object at 0x000001206BED3640>, '_': '', '__': '', '___': '', '_i': 'def times(a, b):\\n    return a * b\\n\\nprint(times)\\nprint(times(10, 10))\\nprint(type(times))', '_ii': 'async times(a, b):\\n    return a * b\\n\\nprint(times)\\nprint(times(10, 10))\\nprint(type(times))', '_iii': 'def times(a, b):\\n    return a * b\\n\\nprint(times)\\nprint(times(10, 10))\\nprint(type(times))', '_i1': 'def times(a, b):\\n    return a * b\\n\\nprint(times)\\nprint(times(10, 10))\\nprint(type(times))', 'times': <function times at 0x000001206BF30670>, '_i2': 'async times(a, b):\\n    return a * b\\n\\nprint(times)\\nprint(times(10, 10))\\nprint(type(times))', '_i3': 'def times(a, b):\\n    return a * b\\n\\nprint(times)\\nprint(times(10, 10))\\nprint(type(times))', '_i4': 'print(globals())'}\n"
     ]
    }
   ],
   "source": [
    "print(globals())"
   ]
  },
  {
   "cell_type": "code",
   "execution_count": 5,
   "id": "4e2f7ef3",
   "metadata": {},
   "outputs": [
    {
     "name": "stdout",
     "output_type": "stream",
     "text": [
      "100\n"
     ]
    }
   ],
   "source": [
    "# 위에서 times라는 함수의 주소는 0x000001206BF30670로 출력되었다.\n",
    "# 이것이 의미하는 바는 상당히 중요한데\n",
    "# OS에서 가상 메모리와 물리 메모리의 개념을 이해에서 부터 시작된다.\n",
    "# 사실상 이 두가지 개념을 설명하자면 커널부터 페이징 매커니즘 등등 설명할 것이 많으므로\n",
    "# 가상메모리 관점에서만 설명하자면\n",
    "# 가상메모리 : 기본적으로 리눅스, 맥, 윈도우의 운영체제는 가상메로리를 물리메모리로 변환하는 페이징 매커니즘을 기반으로 동작한다.\n",
    "# 즉 우리가 보고있는 모든 주소값(포인터)는 전부 가상 메모리다.\n",
    "# 근대 일전에도 가볍게 소개하였듯이 \n",
    "# 메모리는 4가지로 구성되어있는데 \n",
    "# 스택,힙,데이터,text혹은 Code \n",
    "# Stack의 경우 지역 변수가 배치되는 영역이며 가상 메모리 최상단에 배치된다.\n",
    "# Heap의 경우 new, malloc(C계열)로 할당된 메모리들이 배치되며\n",
    "# Stack은 위에서 아래로 증가하고 Heap은 아래에서 위로 올라가는 구조다.\n",
    "# Data의 경우 전역 변수가 배치되면 Heap 아래쪽에 있고 Text위에있다.\n",
    "# Test의 경우 우리가 사용하는 프로그램의 기계어에 해당한다\n",
    "# 이 내용은 가상 메모리 최하단에 배치되게 구성된다.\n",
    "\n",
    "# 여기서 또 중요한 사항은 가상메모리는 2가지 영역으로 분리된다는 것이다.\n",
    "# 상단은 커널(운영체제), 하단은 유저(사용자) 영역으로 분리가되며\n",
    "# 전체 가상 메모리는 커널의 메모리 관리 체계에 의해 제어된다.\n",
    "# 실제 64비트 운영체제의 경우 가상 메모리가 절반 뚝 잘라서 커널과 사용자로 나뉨\n",
    "# Oxffffff ffffff 가 64비트 표현할 수 있는 최대치다.\n",
    "# 그러므로 0 ~ 0x7ffffff ffffff 까지가 하단( 유저 영역)\n",
    "# 0x80000000 00000000 ~ 0xffffffff ffffffff까지가 상단(커널 영역)이다.\n",
    "# 이관점에서 위의 times의 주소값이 0x000014AB160FA60을 보자면\n",
    "# 사용자 영역에 해당하는 하단에 배치된 것을 알 수 있다.\n",
    "# 뿐만 아니라 하단의 거의 최하단에 배치되어 있음을 볼 수이쑈다(숫자사 아퓨에가 죄다0)\n",
    "# 그러므로 이 녀석은 위의 가상 메모리 구성상에 Text에 해당함을 알 수 있다.\n",
    "# 실제 C, C++, Java,Python, Golang, Rusty, kotlin 등등 어떤 언어 든지\n",
    "# 모든 이와 같은 프로그램 동작 구조를 가지고 컴퓨터 상에서 동작함\n",
    "# 모든 기계어는 결국 Text에 배치된다는 것임\n",
    "\n",
    "# 우리가 사용하는 모든 데이터는 어디에 올라가야한다\n",
    "# 메모리(물리 메모리 <--- 가상 메모리)\n",
    "\n",
    "# [0]   [1]  [2]  [3] [4]    프로그램 편의상의 인덱스(가상)\n",
    "# 0xb0 0xb4 0xb8 0xbc 0xc0   메모리 주소(실제 하드웨어)\n",
    "# 데이터들                     특정 메모리 주소 안에 데이터들이 들어있는 것임\n",
    "pointerOfFunction = times\n",
    "res = pointerOfFunction(10, 10) # JAVA interface는 내부적으로 이렇게 구현됨\n",
    "print(res)"
   ]
  },
  {
   "cell_type": "code",
   "execution_count": 7,
   "id": "1c0c1f38",
   "metadata": {},
   "outputs": [
    {
     "name": "stdout",
     "output_type": "stream",
     "text": [
      "Hello 이것이 JAVA interface이자 C언어 함수 포인터의 묘미!\n"
     ]
    }
   ],
   "source": [
    "def test():\n",
    "    return \"Hello 이것이 JAVA interface이자 C언어 함수 포인터의 묘미!\"\n",
    "\n",
    "# C++로 치면 virtual이 interface와 같은 역할을 수행함\n",
    "# 실제 C로 작성할 경우 리턴타입과 파라미터를 맞춰야 해서\n",
    "# 굉장히 해괴한 문법을 사용하게 되는 반면\n",
    "# 파이썬은 아래과 같이 아주 편하게 작성이 가능하다.\n",
    "\n",
    "# ex) C 계열에서 signal이라는 인터럽트 함수가 있는데 프로토 타입이 아래과 같다.\n",
    "# (void) (* signal(int signo, void(*handler)(int)\n",
    "# 분리하고 보면 리턴타입이 함수 포인터\n",
    "# 이름은 시그널\n",
    "# 입력은 정수형과 함수 포인터임을 볼수 있으나\n",
    "# 초기 프로토타입 형태로는 굉장히 해괴한 문법이 구성되어 있음을 볼 수 있다.\n",
    "# (void)(*signal(int signo, void(*handler)(int)))(int); <<<\n",
    "pointerOfFunction = test\n",
    "res = pointerOfFunction()\n",
    "print(res)\n"
   ]
  },
  {
   "cell_type": "code",
   "execution_count": 13,
   "id": "b7fe78c2",
   "metadata": {},
   "outputs": [
    {
     "name": "stdout",
     "output_type": "stream",
     "text": [
      "['p', 'p', 'e']\n"
     ]
    }
   ],
   "source": [
    "def intersect(prelist, postlist):\n",
    "    retList = []\n",
    "    \n",
    "    for x in prelist:\n",
    "        if x in postlist:\n",
    "            retList.append(x)\n",
    "            \n",
    "    return retList\n",
    "\n",
    "        \n",
    "list1 = \"Apple\"            \n",
    "list2 = \"Grape\"\n",
    "\n",
    "print(intersect(list1, list2))"
   ]
  },
  {
   "cell_type": "code",
   "execution_count": 14,
   "id": "c8167e37",
   "metadata": {},
   "outputs": [
    {
     "name": "stdout",
     "output_type": "stream",
     "text": [
      "['A']\n"
     ]
    }
   ],
   "source": [
    "print(intersect(list1, ['H','A','M']))"
   ]
  },
  {
   "cell_type": "code",
   "execution_count": 15,
   "id": "a7cfdbbc",
   "metadata": {},
   "outputs": [
    {
     "name": "stdout",
     "output_type": "stream",
     "text": [
      "(7, 3)\n"
     ]
    }
   ],
   "source": [
    "def swap(x, y):\n",
    "    return y,x\n",
    "\n",
    "print(swap(3, 7))"
   ]
  },
  {
   "cell_type": "code",
   "execution_count": 16,
   "id": "b30e6227",
   "metadata": {},
   "outputs": [
    {
     "name": "stdout",
     "output_type": "stream",
     "text": [
      "77\n",
      "33\n"
     ]
    }
   ],
   "source": [
    "# 기존 JAva나 C의 경우 프로그램 구조적인 부분을 고려해야 하는 반면\n",
    "# 파이썬 프로그래밍은 이런것을 일절 신경쓰지 않고\n",
    "# 그냥 머리속의 생각을 굉장히 직관적으로 표기하여 사용할 수 있다는 장점이 있음\n",
    "a, b = swap(33, 77)\n",
    "print(a)\n",
    "print(b)"
   ]
  },
  {
   "cell_type": "code",
   "execution_count": 17,
   "id": "736e745c",
   "metadata": {},
   "outputs": [
    {
     "name": "stdout",
     "output_type": "stream",
     "text": [
      "(777, 333)\n",
      "<class 'tuple'>\n"
     ]
    }
   ],
   "source": [
    "x = swap(333, 777)\n",
    "print(x)\n",
    "print(type(x))\n",
    "\n",
    "# 튜플은 변경 불가능한 리스탈 생각하면 됨\n",
    "# 변경이 불가능하다란 불변\n",
    "# 즉 const의 형식을 따르고있다는 의미\n",
    "\n",
    "# 우리가 final을 사용했던이유 \n",
    "# 결론 : 바꾸면 안되는 것을 바꿔서 팀 작업에 혼선을 유발할 수 있는 경우에는 미리 튜플(고정값)으로 만들어서 변경이 불가능하게 만들기 위함"
   ]
  },
  {
   "cell_type": "code",
   "execution_count": 18,
   "id": "6905e325",
   "metadata": {},
   "outputs": [
    {
     "name": "stdout",
     "output_type": "stream",
     "text": [
      "30\n"
     ]
    }
   ],
   "source": [
    "a = 10\n",
    "b = 20\n",
    "\n",
    "def mysum(x, y):\n",
    "    return x + y\n",
    "\n",
    "print(mysum(a, b))"
   ]
  },
  {
   "cell_type": "code",
   "execution_count": 19,
   "id": "64f2803e",
   "metadata": {},
   "outputs": [
    {
     "name": "stdout",
     "output_type": "stream",
     "text": [
      "11\n",
      "10\n"
     ]
    }
   ],
   "source": [
    "x = 10\n",
    "\n",
    "def mysum2(x, y):\n",
    "    x = 1\n",
    "    return x + y\n",
    "\n",
    "print(mysum2(x, x))\n",
    "\n",
    "print(x)"
   ]
  },
  {
   "cell_type": "code",
   "execution_count": 20,
   "id": "f8042976",
   "metadata": {},
   "outputs": [
    {
     "name": "stdout",
     "output_type": "stream",
     "text": [
      "1\n",
      "10\n",
      "7\n"
     ]
    }
   ],
   "source": [
    "glob = 1\n",
    "\n",
    "print(glob)\n",
    "\n",
    "def exch_scope(x):\n",
    "    # global 키워드가 있으면 \n",
    "    # 해당 변수를 지역변수가 아닌 전역변수로서 활용한다.\n",
    "    global glob\n",
    "    glob = 7\n",
    "    return glob + x\n",
    "\n",
    "print(exch_scope(3))\n",
    "print(glob)"
   ]
  },
  {
   "cell_type": "code",
   "execution_count": 21,
   "id": "c75e6dc0",
   "metadata": {},
   "outputs": [
    {
     "name": "stdout",
     "output_type": "stream",
     "text": [
      "6\n"
     ]
    }
   ],
   "source": [
    "# 이것은 결국 함수 이름이 g나 마찬가지인 구조\n",
    "g = lambda x, y: x * y\n",
    "print(g(2, 3))"
   ]
  },
  {
   "cell_type": "code",
   "execution_count": 23,
   "id": "8bd772f1",
   "metadata": {},
   "outputs": [
    {
     "name": "stdout",
     "output_type": "stream",
     "text": [
      "27\n"
     ]
    }
   ],
   "source": [
    "# 익명함수\n",
    "print((lambda x: x * x * x)(3))"
   ]
  },
  {
   "cell_type": "code",
   "execution_count": 24,
   "id": "8f83866d",
   "metadata": {},
   "outputs": [
    {
     "name": "stdout",
     "output_type": "stream",
     "text": [
      "1\n",
      "2\n",
      "4\n"
     ]
    }
   ],
   "source": [
    "for i in range(1, 5):\n",
    "    if (i ==3):\n",
    "        pass\n",
    "    else:\n",
    "        print(i)"
   ]
  },
  {
   "cell_type": "code",
   "execution_count": 29,
   "id": "194b6386",
   "metadata": {},
   "outputs": [
    {
     "name": "stdout",
     "output_type": "stream",
     "text": [
      "1\n",
      "1\n",
      "2\n",
      "3\n",
      "5\n",
      "8\n",
      "13\n",
      "21\n",
      "34\n",
      "55\n",
      "89\n",
      "144\n",
      "233\n",
      "377\n",
      "610\n",
      "987\n",
      "1597\n",
      "2584\n",
      "4181\n",
      "6765\n"
     ]
    }
   ],
   "source": [
    "def fib():\n",
    "    a, b = 1, 1\n",
    "    \n",
    "    while 1:\n",
    "        # 현재 실행 스택 메모리를 유지하면서 결과값을 호출한 곳에 돌려준다.\n",
    "        yield a\n",
    "        a, b = b, a + b\n",
    "        \n",
    "for i, ret in enumerate(fib()):\n",
    "    if i < 20:\n",
    "        print(ret)\n",
    "    else:\n",
    "        break\n",
    "        "
   ]
  },
  {
   "cell_type": "code",
   "execution_count": 30,
   "id": "d5d2e236",
   "metadata": {},
   "outputs": [
    {
     "name": "stdout",
     "output_type": "stream",
     "text": [
      "6765\n"
     ]
    }
   ],
   "source": [
    "def fib2(n):\n",
    "    if n < 2:\n",
    "        return n\n",
    "    else:\n",
    "        return fib2(n-1) + fib2(n-2)\n",
    "    \n",
    "print(fib2(20))    "
   ]
  },
  {
   "cell_type": "code",
   "execution_count": null,
   "id": "755a4d99",
   "metadata": {},
   "outputs": [],
   "source": []
  }
 ],
 "metadata": {
  "kernelspec": {
   "display_name": "Python 3",
   "language": "python",
   "name": "python3"
  },
  "language_info": {
   "codemirror_mode": {
    "name": "ipython",
    "version": 3
   },
   "file_extension": ".py",
   "mimetype": "text/x-python",
   "name": "python",
   "nbconvert_exporter": "python",
   "pygments_lexer": "ipython3",
   "version": "3.8.8"
  }
 },
 "nbformat": 4,
 "nbformat_minor": 5
}
