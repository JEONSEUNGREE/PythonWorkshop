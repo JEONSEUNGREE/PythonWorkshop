{
 "cells": [
  {
   "cell_type": "code",
   "execution_count": 1,
   "id": "8c84c634",
   "metadata": {},
   "outputs": [
    {
     "name": "stdout",
     "output_type": "stream",
     "text": [
      "Hello Python\n"
     ]
    }
   ],
   "source": [
    "print(\"Hello Python\")"
   ]
  },
  {
   "cell_type": "code",
   "execution_count": 5,
   "id": "91bbdac1",
   "metadata": {},
   "outputs": [
    {
     "name": "stdout",
     "output_type": "stream",
     "text": [
      "1 11\n"
     ]
    }
   ],
   "source": [
    "num = 1\n",
    "Num = 11\n",
    "print(num, Num)\n",
    "# 데이터 타입을 적지 않는다."
   ]
  },
  {
   "cell_type": "code",
   "execution_count": 8,
   "id": "d5e0ddda",
   "metadata": {},
   "outputs": [
    {
     "name": "stdout",
     "output_type": "stream",
     "text": [
      "2 8 16\n"
     ]
    }
   ],
   "source": [
    "# 2^1 2^0\n",
    "binary = 0b10\n",
    "# 8^1 8^0\n",
    "octal = 0o10\n",
    "# 16^1 16^0\n",
    "hexa = 0x10\n",
    "\n",
    "print(binary, octal, hexa)"
   ]
  },
  {
   "cell_type": "code",
   "execution_count": 11,
   "id": "df43998e",
   "metadata": {},
   "outputs": [
    {
     "name": "stdout",
     "output_type": "stream",
     "text": [
      "0b100110 0o46 0x26\n"
     ]
    }
   ],
   "source": [
    "binary = bin(38)\n",
    "octal = oct(38)\n",
    "hexa = hex(38)\n",
    "\n",
    "print(binary, octal, hexa)"
   ]
  },
  {
   "cell_type": "code",
   "execution_count": 15,
   "id": "c0e76651",
   "metadata": {},
   "outputs": [
    {
     "name": "stdout",
     "output_type": "stream",
     "text": [
      "<class 'complex'>\n",
      "-4.0\n",
      "3.0\n",
      "(3+4j)\n"
     ]
    }
   ],
   "source": [
    "z = 3 - 4j\n",
    "\n",
    "print(type(z))\n",
    "print(z.imag)\n",
    "print(z.real)\n",
    "print(z.conjugate())"
   ]
  },
  {
   "cell_type": "code",
   "execution_count": 16,
   "id": "411c19a8",
   "metadata": {},
   "outputs": [
    {
     "name": "stdout",
     "output_type": "stream",
     "text": [
      "1.2e+30\n",
      "1.57e-20\n",
      "1024\n",
      "<class 'float'>\n",
      "<class 'float'>\n",
      "<class 'int'>\n"
     ]
    }
   ],
   "source": [
    "# e 자연지수 아님\n",
    "big = 1.2e30\n",
    "small = 1.57e-20\n",
    "test = 2**10\n",
    "\n",
    "print(big)\n",
    "print(small)\n",
    "print(test)\n",
    "\n",
    "print(type(big))\n",
    "print(type(small))\n",
    "print(type(test))\n"
   ]
  },
  {
   "cell_type": "code",
   "execution_count": 18,
   "id": "5ada5f18",
   "metadata": {},
   "outputs": [
    {
     "name": "stdout",
     "output_type": "stream",
     "text": [
      "0 0.42857142857142855\n",
      "333 333.3\n"
     ]
    }
   ],
   "source": [
    "# // 는 몫만 구하는 나누기 연산\n",
    "num1 = 3 // 7\n",
    "num2 = 3333 // 10\n",
    "# / 는 우리가 알고있는 일반적인 나누기 연산으로 소수점 계산이 포함됨\n",
    "num3 = 3 / 7\n",
    "num4 = 3333 / 10\n",
    "\n",
    "print(num1, num3)\n",
    "print(num2, num4)"
   ]
  },
  {
   "cell_type": "code",
   "execution_count": null,
   "id": "7ec98c86",
   "metadata": {},
   "outputs": [],
   "source": []
  }
 ],
 "metadata": {
  "kernelspec": {
   "display_name": "Python 3",
   "language": "python",
   "name": "python3"
  },
  "language_info": {
   "codemirror_mode": {
    "name": "ipython",
    "version": 3
   },
   "file_extension": ".py",
   "mimetype": "text/x-python",
   "name": "python",
   "nbconvert_exporter": "python",
   "pygments_lexer": "ipython3",
   "version": "3.8.8"
  }
 },
 "nbformat": 4,
 "nbformat_minor": 5
}
