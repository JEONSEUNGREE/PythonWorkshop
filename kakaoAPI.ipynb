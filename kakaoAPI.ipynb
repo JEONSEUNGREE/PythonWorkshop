{
 "cells": [
  {
   "cell_type": "code",
   "execution_count": 83,
   "id": "b9784ac9",
   "metadata": {},
   "outputs": [
    {
     "name": "stdout",
     "output_type": "stream",
     "text": [
      " * Serving Flask app \"__main__\" (lazy loading)\n",
      " * Environment: production\n",
      "   WARNING: This is a development server. Do not use it in a production deployment.\n",
      "   Use a production WSGI server instead.\n",
      " * Debug mode: off\n"
     ]
    },
    {
     "name": "stderr",
     "output_type": "stream",
     "text": [
      " * Running on http://127.0.0.1:5000/ (Press CTRL+C to quit)\n"
     ]
    }
   ],
   "source": [
    "from flask import Flask\n",
    "app = Flask(__name__)\n",
    "\n",
    "# Spring Controller와 동일한 역할 수행\n",
    "@app.route(\"/\")\n",
    "def hello():\n",
    "    return \"<h1>Hello Python</h1>\"\n",
    "\n",
    "# spring의 main과 유사한\n",
    "# applicationrunner와 같은느낌\n",
    "if __name__==\"__main__\":\n",
    "    app.run()\n",
    "    "
   ]
  },
  {
   "cell_type": "code",
   "execution_count": 42,
   "id": "99bcda62",
   "metadata": {},
   "outputs": [],
   "source": [
    "# GET /oauth/authorize?client_id={beba58f2adeff7b7dbbc58a195847624}&redirect_uri={https://localhost.com}&response_type=code HTTP/1.1\n",
    "# Host: kauth.kakao.com\n",
    "#     kauth.kakao.com/oauth/authorize?client_id={beba58f2adeff7b7dbbc58a195847624}&redirect_uri={https://localhost.com}&response_type=code\n",
    "#  이런식으로 요청"
   ]
  },
  {
   "cell_type": "code",
   "execution_count": 13,
   "id": "995b3bdf",
   "metadata": {},
   "outputs": [
    {
     "name": "stdout",
     "output_type": "stream",
     "text": [
      "{'access_token': 'B3gr9leXD207TdRJOLnbdnXju151YlgFGqNZago9dZsAAAF8Mc2wnw', 'token_type': 'bearer', 'refresh_token': 'BTRaomukRiJKAKxgup8bkFEN3h55ejVjoiJ9pwo9dZsAAAF8Mc2wng', 'expires_in': 21599, 'scope': 'account_email talk_message profile_nickname', 'refresh_token_expires_in': 5183999}\n"
     ]
    }
   ],
   "source": [
    "import requests\n",
    "\n",
    "url = \"https://kauth.kakao.com/oauth/token\"\n",
    "\n",
    "#data = {\n",
    "#    \"grant_type\" : \"authorization_code\",\n",
    "#    \"client_id\" : \"REST API 키,\n",
    "#    \"redirect_uri\" : \"https://localhost.com\",\n",
    "#    \"code\" : \"발급받은 토큰값\"\n",
    "#}\n",
    "\n",
    "data = {\n",
    "    \"grant_type\" : \"authorization_code\",\n",
    "    \"client_id\" : \"rest\",\n",
    "    \"redirect_uri\" : \"https://localhost.com\",\n",
    "    \"code\" : \"받은토큰값\"\n",
    "}\n",
    "\n",
    "response = requests.post(url, data=data)\n",
    "\n",
    "if response.status_code != 200:\n",
    "    print(\"Error!\")\n",
    "else:\n",
    "    tokens = response.json()\n",
    "    print(tokens)\n",
    "    \n",
    "#     토큰시간 만료때문에 먼저 코드작성후에 kauth.kakao.com에 요청을 보낸다음 토큰 넣고 요청보낼것"
   ]
  },
  {
   "cell_type": "code",
   "execution_count": 14,
   "id": "6ce70d9f",
   "metadata": {},
   "outputs": [],
   "source": [
    "import json\n",
    "import requests\n",
    "import datetime\n",
    "import os\n",
    "\n",
    "# Kakao Token 저장 파일\n",
    "KAKAO_TOKEN_SAVED_FILE = \"res/kakao_msg/kakao_token.json\"\n",
    "\n",
    "\n",
    "#저장\n",
    "def save_tokens(filename, tokens):\n",
    "    with open(filename, \"w\") as fp:\n",
    "        json.dump(tokens, fp)\n",
    "        \n",
    "# 읽기\n",
    "def load_token(filename):\n",
    "    with open(filename) as fp:\n",
    "        tokens = json.load(fp)\n",
    "        \n",
    "    return tokens\n",
    "\n",
    "# Access Token 갱신을 위한 Refresh\n",
    "def update_tokens(app_key, filename):\n",
    "    tokens = load_token(filename)\n",
    "    \n",
    "    url = \"https://kauth.kakao.com/oauth/token\"\n",
    "    \n",
    "    data = {\n",
    "        \"grant_type\" : \"refresh_token\",\n",
    "        \"client_id\" : app_key,\n",
    "        \"refresh_toekn\" : tokens['refresh_token']\n",
    "    }\n",
    "    \n",
    "    response = requests.post(url, data=data)\n",
    "    \n",
    "    if response.status_code != 200:\n",
    "        print(\"Error!\")\n",
    "        tokens = None\n",
    "    else:\n",
    "        print(response.json())\n",
    "        \n",
    "        # 기존 내용 백업\n",
    "        now = datetime.datetime.now().strfile(\"%Y%m%d_%H%M%S\")\n",
    "        backup_filename = filename + now\n",
    "        os.rename(filename, backup_filename)\n",
    "        \n",
    "        #새롭게 업데이트된 토큰 저장\n",
    "        tokens['access_token'] = response.json()['access_token']\n",
    "        save_tokens(filename, tokens)\n",
    "        \n",
    "    return tokens\n",
    "\n",
    "# token 저장\n",
    "save_tokens(KAKAO_TOKEN_SAVED_FILE, tokens)"
   ]
  },
  {
   "cell_type": "code",
   "execution_count": 15,
   "id": "8733de6a",
   "metadata": {},
   "outputs": [
    {
     "name": "stdout",
     "output_type": "stream",
     "text": [
      "200\n",
      "카톡 메시지가 간드아\n"
     ]
    }
   ],
   "source": [
    "# kakaoTal message 보내기\n",
    "# 스프링이 클라이언트가 되서 파이썬에 요청을 보내는 방식\n",
    "import json\n",
    "import requests\n",
    "\n",
    "# 토큰 정보 활용\n",
    "tokens = load_token(KAKAO_TOKEN_SAVED_FILE)\n",
    "\n",
    "# 메시지 보내기 URL\n",
    "url = \"https://kapi.kakao.com/v2/api/talk/memo/default/send\"\n",
    "\n",
    "# requests parameter 설정\n",
    "headers = {\n",
    "    \"Authorization\" : \"Bearer \" + tokens['access_token']\n",
    "}\n",
    "\n",
    "data = {\n",
    "    \"template_object\" : json.dumps({\n",
    "        \"object_type\" : \"text\",\n",
    "        \"text\" : \"카카오톡 첫 메시지를 발송합니다.\",\n",
    "        \"link\" : {\n",
    "            # 이동할 링크 정보\n",
    "            \"web_url\" : \"www.naver.com\"\n",
    "        }\n",
    "    })\n",
    "}\n",
    "\n",
    "# 메시지 전송\n",
    "response = requests.post(url, headers=headers, data=data)\n",
    "print(response.status_code)\n",
    "\n",
    "if response.status_code != 200:\n",
    "    print(\"Error\")\n",
    "else:\n",
    "    print(\"카톡 메시지가 간드아\")"
   ]
  },
  {
   "cell_type": "code",
   "execution_count": 89,
   "id": "ebcb4421",
   "metadata": {},
   "outputs": [
    {
     "name": "stdout",
     "output_type": "stream",
     "text": [
      "/\n",
      "/member/ree\n"
     ]
    }
   ],
   "source": [
    "from flask import Flask, url_for\n",
    "app = Flask(__name__)\n",
    "\n",
    "# Spring Controller와 동일한 역할 수행\n",
    "@app.route(\"/\")\n",
    "def hello():\n",
    "    return \"<h1>Hello Python</h1>\"\n",
    "\n",
    "# 가변인자 받기 특정아이디로 카톡 받기\n",
    "\n",
    "@app.route(\"/member/<id>\")\n",
    "def get_member(id):\n",
    "    return 'member  : ' + id\n",
    "\n",
    "if __name__ == \"__main__\":\n",
    "    with app.test_request_context():\n",
    "        print(url_for('hello'))\n",
    "        print(url_for('get_member', id='ree'))"
   ]
  },
  {
   "cell_type": "code",
   "execution_count": null,
   "id": "44bbb745",
   "metadata": {},
   "outputs": [
    {
     "name": "stdout",
     "output_type": "stream",
     "text": [
      " * Serving Flask app \"__main__\" (lazy loading)\n",
      " * Environment: production\n",
      "   WARNING: This is a development server. Do not use it in a production deployment.\n",
      "   Use a production WSGI server instead.\n",
      " * Debug mode: off\n"
     ]
    },
    {
     "name": "stderr",
     "output_type": "stream",
     "text": [
      " * Running on http://127.0.0.1:5000/ (Press CTRL+C to quit)\n",
      "127.0.0.1 - - [29/Sep/2021 19:22:45] \"\u001b[37mGET / HTTP/1.1\u001b[0m\" 200 -\n",
      "127.0.0.1 - - [29/Sep/2021 19:22:48] \"\u001b[37mGET /test HTTP/1.1\u001b[0m\" 200 -\n",
      "127.0.0.1 - - [29/Sep/2021 19:23:05] \"\u001b[37mGET /test HTTP/1.1\u001b[0m\" 200 -\n"
     ]
    }
   ],
   "source": [
    "from flask import Flask, url_for, request\n",
    "app = Flask(__name__)\n",
    "\n",
    "# Spring Controller와 동일한 역할 수행\n",
    "@app.route(\"/\")\n",
    "def hello():\n",
    "    return \"<h1>Hello Python</h1>\"\n",
    "\n",
    "# 가변인자 받기 특정아이디로 카톡 받기\n",
    "\n",
    "@app.route(\"/member/<id>\")\n",
    "def get_member(id):\n",
    "    return 'member  : ' + id\n",
    "\n",
    "# post와 get을 가능 \n",
    "# 물론 구분해서도 사용하지만 이렇게 한 메서드로 다 받을수있다.\n",
    "@app.route(\"/test\", methods=['POST', 'GET'])\n",
    "def chk_get_post(enity=None):\n",
    "    err = None\n",
    "    \n",
    "    if request.method == \"POST\":\n",
    "        id = request.form['id']\n",
    "        email = request.form['email']\n",
    "        \n",
    "        if not id and not eamil:\n",
    "            return add_entity(request.form)\n",
    "    else:\n",
    "        err = \"Invaild!\"\n",
    "        \n",
    "    return err\n",
    "        \n",
    "if __name__==\"__main__\":\n",
    "    app.run()"
   ]
  },
  {
   "cell_type": "code",
   "execution_count": null,
   "id": "0c9ccda6",
   "metadata": {},
   "outputs": [
    {
     "name": "stdout",
     "output_type": "stream",
     "text": [
      " * Serving Flask app \"__main__\" (lazy loading)\n",
      " * Environment: production\n",
      "   WARNING: This is a development server. Do not use it in a production deployment.\n",
      "   Use a production WSGI server instead.\n",
      " * Debug mode: off\n"
     ]
    },
    {
     "name": "stderr",
     "output_type": "stream",
     "text": [
      " * Running on http://127.0.0.1:5000/ (Press CTRL+C to quit)\n",
      "127.0.0.1 - - [01/Oct/2021 15:48:09] \"\u001b[37mGET / HTTP/1.1\u001b[0m\" 200 -\n",
      "127.0.0.1 - - [01/Oct/2021 15:48:09] \"\u001b[33mGET /favicon.ico HTTP/1.1\u001b[0m\" 404 -\n",
      "127.0.0.1 - - [01/Oct/2021 15:48:18] \"\u001b[37mOPTIONS /login HTTP/1.1\u001b[0m\" 200 -\n",
      "127.0.0.1 - - [01/Oct/2021 15:48:18] \"\u001b[37mPOST /login HTTP/1.1\u001b[0m\" 200 -\n"
     ]
    },
    {
     "name": "stdout",
     "output_type": "stream",
     "text": [
      "{'userId': 'test', 'password': 'test'}\n"
     ]
    }
   ],
   "source": [
    "# vue 연동시 cors 설정\n",
    "# ananconda -> pip install flask_cors 인스톨\n",
    "from flask import Flask, url_for, request, jsonify\n",
    "from flask_cors import CORS, cross_origin\n",
    "\n",
    "app = Flask(__name__)\n",
    "CORS(app)\n",
    "\n",
    "# Spring Controller와 동일한 역할 수행\n",
    "@app.route(\"/\")\n",
    "def hello():\n",
    "    return \"<h1>Hello Python</h1>\"\n",
    "\n",
    "# 가변인자 받기 특정아이디로 카톡 받기\n",
    "\n",
    "@app.route(\"/member/<id>\")\n",
    "def get_member(id):\n",
    "    return 'member  : ' + id\n",
    "\n",
    "# post와 get을 가능\n",
    "@app.route(\"/login\", methods=['POST', 'GET'])\n",
    "def chk_get_post(entity=None):\n",
    "    err = None\n",
    "    \n",
    "    if request.method == \"POST\":\n",
    "        data = request.get_json()\n",
    "        print(data)\n",
    "#         print(\"POST 처리\")\n",
    "#         userId = request.form['userId']\n",
    "#         pw = request.form['password']\n",
    "\n",
    "        \n",
    "#         return \"userId = \" + userId + \", password = \" + pw\n",
    "        return jsonify(data)\n",
    "    else:\n",
    "        print(\"GET 처리\")\n",
    "        err = \"Invaild!\"\n",
    "        \n",
    "    return err\n",
    "        \n",
    "if __name__==\"__main__\":\n",
    "    app.run()\n",
    "    \n",
    "#     위처럼 정보를 받아서 카카오 알림으로 전송하는방법으로 응용"
   ]
  },
  {
   "cell_type": "code",
   "execution_count": null,
   "id": "dffa55d1",
   "metadata": {},
   "outputs": [],
   "source": []
  }
 ],
 "metadata": {
  "kernelspec": {
   "display_name": "Python 3",
   "language": "python",
   "name": "python3"
  },
  "language_info": {
   "codemirror_mode": {
    "name": "ipython",
    "version": 3
   },
   "file_extension": ".py",
   "mimetype": "text/x-python",
   "name": "python",
   "nbconvert_exporter": "python",
   "pygments_lexer": "ipython3",
   "version": "3.8.8"
  }
 },
 "nbformat": 4,
 "nbformat_minor": 5
}
