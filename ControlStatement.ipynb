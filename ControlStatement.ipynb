{
 "cells": [
  {
   "cell_type": "code",
   "execution_count": null,
   "id": "7ce5e898",
   "metadata": {},
   "outputs": [],
   "source": [
    "val = 1\n",
    "\n",
    "if val > 5:\n",
    "    print(\"val is bigger than 5\")"
   ]
  },
  {
   "cell_type": "code",
   "execution_count": null,
   "id": "5b47fd7d",
   "metadata": {},
   "outputs": [],
   "source": [
    "val = 1\n",
    "\n",
    "if val > 5:\n",
    "    print(\"test\")\n",
    "    \n",
    "print(\"val is bigger than 5\")    "
   ]
  },
  {
   "cell_type": "code",
   "execution_count": null,
   "id": "fcd70197",
   "metadata": {},
   "outputs": [],
   "source": [
    "money = 1000\n",
    "\n",
    "if money > 100:\n",
    "    item = \"apple\"\n",
    "else:\n",
    "    item = \"banana\"\n",
    "    \n",
    "print(item)    "
   ]
  },
  {
   "cell_type": "code",
   "execution_count": null,
   "id": "e7117687",
   "metadata": {},
   "outputs": [],
   "source": [
    "score = int(input(('Input Score: ')))\n",
    "\n",
    "if 90 <= score <= 100:\n",
    "    grade = 'A'\n",
    "elif 80 <= score < 90:\n",
    "    grade = \"B\"\n",
    "elif 70 <= score < 80:\n",
    "    grade = \"C\"\n",
    "elif 60 <= score < 70:\n",
    "    grade = \"D\"\n",
    "else:\n",
    "    grade = \"F\"\n",
    "    \n",
    "print(\"점수 통보! 등급 = \" + grade)\n",
    "    \n",
    "    "
   ]
  },
  {
   "cell_type": "code",
   "execution_count": 14,
   "id": "aa5d2890",
   "metadata": {},
   "outputs": [
    {
     "name": "stdout",
     "output_type": "stream",
     "text": [
      "수학 Score:50\n",
      "영어 Score:80\n",
      "국사 Score:90\n",
      "73.33333333333333\n",
      "합격여부 : 통과\n"
     ]
    }
   ],
   "source": [
    "# 수학, 영어, 국사 시험을 봤다.\n",
    "# 각각의 점수를 입력하여 토탈 평균이 60점 미만이며\n",
    "# 또한 각 과목의 점수들이 50점 미만인 경우에도 탈락 처리를 하도록 한다.\n",
    "\n",
    "mathScore = float(input(('수학 Score:')))\n",
    "englishScore = float(input(('영어 Score:')))\n",
    "historyScore = float(input(('국사 Score:')))\n",
    "\n",
    "total = (int)(mathScore + englishScore + historyScore) / 3\n",
    "\n",
    "if mathScore < 50:\n",
    "    isPass = \"과락 탈락\"\n",
    "elif englishScore < 50:\n",
    "    isPass = \"과락 탈락\"\n",
    "elif historyScore < 50:\n",
    "    isPass = \"과락 탈락\"\n",
    "else: isPass = \"\"\n",
    "print(total)\n",
    "    \n",
    "if total < 60:\n",
    "    isPassAvg = \"평균 60점미만 탈락\"\n",
    "else: isPassAvg = \"통과\" \n",
    "\n",
    "print(\"합격여부 : \" + isPassAvg + isPass)\n",
    "\n"
   ]
  },
  {
   "cell_type": "code",
   "execution_count": 15,
   "id": "16fd1852",
   "metadata": {},
   "outputs": [
    {
     "name": "stdout",
     "output_type": "stream",
     "text": [
      "역사점수 : 80\n",
      "영어점수 : 6\n",
      "수학점수 : 70\n",
      "과락\n"
     ]
    }
   ],
   "source": [
    "# hashmap\n",
    "score = dict(his = 1, eng = 1, math = 1)\n",
    "subject = [\"수학\", \"영어\", \"역사\"]\n",
    "result = 1\n",
    "total = 1\n",
    "\n",
    "for value in score.keys():\n",
    "    score[value] = int(input((subject.pop()+\"점수 : \")))\n",
    "    \n",
    "for isPass in score.values():\n",
    "    total += isPass\n",
    "    if isPass < 50:\n",
    "        result = 0\n",
    "        \n",
    "totalR = total / 3\n",
    "\n",
    "if result == 0:\n",
    "    print(\"과락\")\n",
    "elif totalR < 60:\n",
    "    print(\"평균 미달\")\n",
    "else: print(\"통과\")    "
   ]
  },
  {
   "cell_type": "code",
   "execution_count": 7,
   "id": "c0851442",
   "metadata": {},
   "outputs": [
    {
     "name": "stdout",
     "output_type": "stream",
     "text": [
      "5\n",
      "4\n",
      "3\n",
      "2\n",
      "1\n"
     ]
    }
   ],
   "source": [
    "val = 5\n",
    "\n",
    "while val > 0:\n",
    "    print(val)\n",
    "    val -= 1"
   ]
  },
  {
   "cell_type": "code",
   "execution_count": 8,
   "id": "84a4b4c9",
   "metadata": {},
   "outputs": [
    {
     "name": "stdout",
     "output_type": "stream",
     "text": [
      "Apple <class 'str'>\n",
      "100 <class 'int'>\n",
      "15.33 <class 'float'>\n"
     ]
    }
   ],
   "source": [
    "lists = ['Apple', 100, 15.33]\n",
    "\n",
    "for i in lists:\n",
    "    print(i, type(i))"
   ]
  },
  {
   "cell_type": "code",
   "execution_count": 9,
   "id": "0d2d13e6",
   "metadata": {},
   "outputs": [
    {
     "name": "stdout",
     "output_type": "stream",
     "text": [
      "item: 1\n",
      "item: 2\n",
      "item: 3\n",
      "item: 4\n",
      "item: 5\n"
     ]
    }
   ],
   "source": [
    "numList = [1, 2, 3, 4, 5, 6, 7, 8, 9, 10]\n",
    "\n",
    "for i in numList:\n",
    "    if i > 5:\n",
    "        break\n",
    "    print(\"item: {0}\".format(i))"
   ]
  },
  {
   "cell_type": "code",
   "execution_count": 10,
   "id": "c20f4159",
   "metadata": {},
   "outputs": [
    {
     "name": "stdout",
     "output_type": "stream",
     "text": [
      "item: 1\n",
      "item: 3\n",
      "item: 5\n",
      "item: 7\n",
      "item: 9\n"
     ]
    }
   ],
   "source": [
    "for i in numList:\n",
    "    if i % 2 == 0:\n",
    "        continue\n",
    "    print(\"item: {0}\".format(i))"
   ]
  },
  {
   "cell_type": "code",
   "execution_count": 13,
   "id": "2566116f",
   "metadata": {},
   "outputs": [
    {
     "name": "stdout",
     "output_type": "stream",
     "text": [
      "[0, 1, 2, 3, 4, 5, 6, 7, 8, 9]\n"
     ]
    }
   ],
   "source": [
    "# range_num = range(10)\n",
    "# range_list = list(range_num)\n",
    "# print(range_list)\n",
    "\n",
    "print(list(range(10)))"
   ]
  },
  {
   "cell_type": "code",
   "execution_count": 16,
   "id": "e1f6db7a",
   "metadata": {},
   "outputs": [
    {
     "name": "stdout",
     "output_type": "stream",
     "text": [
      "[5, 6, 7, 8, 9]\n"
     ]
    }
   ],
   "source": [
    "print(list(range(5,10)))"
   ]
  },
  {
   "cell_type": "code",
   "execution_count": 17,
   "id": "61c88f22",
   "metadata": {},
   "outputs": [
    {
     "name": "stdout",
     "output_type": "stream",
     "text": [
      "[10, 9, 8, 7, 6, 5, 4, 3, 2, 1]\n"
     ]
    }
   ],
   "source": [
    "print(list(range(10, 0, -1)))"
   ]
  },
  {
   "cell_type": "code",
   "execution_count": 18,
   "id": "6807be27",
   "metadata": {},
   "outputs": [
    {
     "name": "stdout",
     "output_type": "stream",
     "text": [
      "[10, 12, 14, 16, 18]\n"
     ]
    }
   ],
   "source": [
    "print(list(range(10, 20, 2)))"
   ]
  },
  {
   "cell_type": "code",
   "execution_count": 19,
   "id": "f0962475",
   "metadata": {},
   "outputs": [
    {
     "name": "stdout",
     "output_type": "stream",
     "text": [
      "[1, 2, 3, 4, 5, 6, 7, 8, 9, 10]\n"
     ]
    }
   ],
   "source": [
    "print(list(range(1, 11)))"
   ]
  },
  {
   "cell_type": "code",
   "execution_count": 27,
   "id": "73856b9c",
   "metadata": {},
   "outputs": [
    {
     "name": "stdout",
     "output_type": "stream",
     "text": [
      "idx: 0, val: Apple\n",
      "idx: 1, val: Orange\n",
      "idx: 2, val: Grape\n",
      "idx: 3, val: Banana\n"
     ]
    }
   ],
   "source": [
    "strList = [\"Apple\", \"Orange\", \"Grape\", \"Banana\"]\n",
    "\n",
    "for i in range(len(strList)):\n",
    "#     java의 %d같은느낌\n",
    "    print(\"idx: {0}, val: {1}\".format(i, strList[i]))"
   ]
  },
  {
   "cell_type": "code",
   "execution_count": 23,
   "id": "cb3be832",
   "metadata": {},
   "outputs": [
    {
     "name": "stdout",
     "output_type": "stream",
     "text": [
      "(0, 100)\n",
      "(1, 33.7)\n",
      "(2, 'Grape')\n"
     ]
    }
   ],
   "source": [
    "varList = [100, 33.7, \"Grape\"]\n",
    "\n",
    "for i in enumerate(varList):\n",
    "    print(i)"
   ]
  },
  {
   "cell_type": "code",
   "execution_count": 25,
   "id": "7d0a2acd",
   "metadata": {},
   "outputs": [
    {
     "name": "stdout",
     "output_type": "stream",
     "text": [
      "[4.5, -1.5, 12, 6.0, -2.0, 16, 7.5, -2.5, 20]\n"
     ]
    }
   ],
   "source": [
    "numList1 = [3, 4, 5]\n",
    "numList2 = [1.5, -0.5, 4]\n",
    "\n",
    "print([x * y for x in numList1 for y in numList2])"
   ]
  },
  {
   "cell_type": "code",
   "execution_count": null,
   "id": "f19c45cc",
   "metadata": {},
   "outputs": [],
   "source": []
  }
 ],
 "metadata": {
  "kernelspec": {
   "display_name": "Python 3",
   "language": "python",
   "name": "python3"
  },
  "language_info": {
   "codemirror_mode": {
    "name": "ipython",
    "version": 3
   },
   "file_extension": ".py",
   "mimetype": "text/x-python",
   "name": "python",
   "nbconvert_exporter": "python",
   "pygments_lexer": "ipython3",
   "version": "3.8.8"
  }
 },
 "nbformat": 4,
 "nbformat_minor": 5
}
